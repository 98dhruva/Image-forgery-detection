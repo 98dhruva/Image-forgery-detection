{
 "cells": [
  {
   "cell_type": "code",
   "execution_count": 3,
   "metadata": {
    "_cell_guid": "b1076dfc-b9ad-4769-8c92-a6c4dae69d19",
    "_uuid": "8f2839f25d086af736a60e9eeb907d3b93b6e0e5",
    "editable": false
   },
   "outputs": [
    {
     "data": {
      "text/plain": [
       "'2.10.1'"
      ]
     },
     "execution_count": 3,
     "metadata": {},
     "output_type": "execute_result"
    }
   ],
   "source": [
    "#import necessary libraries\n",
    "import numpy as np\n",
    "import matplotlib.pyplot as plt\n",
    "%matplotlib inline\n",
    "import tensorflow as tf\n",
    "np.random.seed(2)\n",
    "from sklearn.model_selection import train_test_split\n",
    "from sklearn.metrics import confusion_matrix\n",
    "from tensorflow.python.keras.utils.np_utils import to_categorical\n",
    "from tensorflow.keras.models import Sequential\n",
    "from tensorflow.keras.layers import Dense, Flatten, Conv2D, MaxPool2D, Dropout,BatchNormalization\n",
    "from tensorflow.keras.optimizers import Adam\n",
    "from tensorflow.keras.preprocessing.image import ImageDataGenerator\n",
    "from tensorflow.keras.callbacks import EarlyStopping\n",
    "from tensorflow.keras.models import model_from_json\n",
    "from PIL import Image, ImageChops, ImageEnhance\n",
    "import PIL\n",
    "import os\n",
    "import itertools\n",
    "from tqdm import tqdm\n",
    "tf.__version__"
   ]
  },
  {
   "cell_type": "code",
   "execution_count": null,
   "metadata": {
    "_cell_guid": "79c7e3d0-c299-4dcb-8224-4455121ee9b0",
    "_uuid": "d629ff2d2480ee46fbb7e2d37f6b5fab8052498a",
    "editable": false,
    "execution": {
     "iopub.execute_input": "2023-08-14T19:04:39.72348Z",
     "iopub.status.busy": "2023-08-14T19:04:39.723107Z",
     "iopub.status.idle": "2023-08-14T19:04:39.733143Z",
     "shell.execute_reply": "2023-08-14T19:04:39.73205Z",
     "shell.execute_reply.started": "2023-08-14T19:04:39.723444Z"
    }
   },
   "outputs": [],
   "source": [
    "#ELA Conversion Function\n",
    "def ELA(img_path, quality=100, threshold=60):\n",
    "    TEMP = 'ela_' + 'temp.jpg'\n",
    "    SCALE = 10\n",
    "    original = Image.open(img_path)\n",
    "    diff = \"\"\n",
    "\n",
    "    try:\n",
    "        original.save(TEMP, quality=90)\n",
    "        temporary = Image.open(TEMP)\n",
    "        diff = ImageChops.difference(original, temporary)\n",
    "\n",
    "    except:\n",
    "        original.convert('RGB').save(TEMP, quality=90)\n",
    "        temporary = Image.open(TEMP)\n",
    "        diff = ImageChops.difference(original.convert('RGB'), temporary)\n",
    "\n",
    "    d = diff.load()\n",
    "    WIDTH, HEIGHT = diff.size\n",
    "\n",
    "    for x in range(WIDTH):\n",
    "        for y in range(HEIGHT):\n",
    "            r, g, b = d[x, y]\n",
    "            modified_intensity = int(0.2989 * r + 0.587 * g + 0.114 * b)\n",
    "            d[x, y] = modified_intensity * SCALE, modified_intensity * SCALE, modified_intensity * SCALE\n",
    "\n",
    "    # Calculate the threshold value based on the provided input quality\n",
    "    calculated_threshold = threshold * (quality / 100)\n",
    "\n",
    "    # Create a binary mask based on the threshold and pixel differences\n",
    "    binary_mask = diff.point(lambda p: 255 if p >= calculated_threshold else 0)\n",
    "\n",
    "    return binary_mask"
   ]
  },
  {
   "cell_type": "code",
   "execution_count": null,
   "metadata": {
    "editable": false
   },
   "outputs": [],
   "source": []
  },
  {
   "cell_type": "code",
   "execution_count": null,
   "metadata": {
    "editable": false,
    "execution": {
     "iopub.execute_input": "2023-08-14T19:05:06.243733Z",
     "iopub.status.busy": "2023-08-14T19:05:06.243337Z",
     "iopub.status.idle": "2023-08-14T19:05:06.873498Z",
     "shell.execute_reply": "2023-08-14T19:05:06.872644Z",
     "shell.execute_reply.started": "2023-08-14T19:05:06.243697Z"
    }
   },
   "outputs": [],
   "source": [
    "#Dataset Path, Original Images Path and Forged Images Path\n",
    "dataset_path=\"/kaggle/input/image-forgery-detection/Dataset/\"\n",
    "path_original = 'Original/'\n",
    "path_tampered = 'Forged/'\n",
    "\n",
    "total_original = os.listdir(dataset_path+path_original)\n",
    "total_tampered = os.listdir(dataset_path+path_tampered)\n",
    "\n"
   ]
  },
  {
   "cell_type": "code",
   "execution_count": null,
   "metadata": {
    "editable": false,
    "execution": {
     "iopub.execute_input": "2023-08-14T19:05:16.634315Z",
     "iopub.status.busy": "2023-08-14T19:05:16.633847Z",
     "iopub.status.idle": "2023-08-14T19:05:16.651964Z",
     "shell.execute_reply": "2023-08-14T19:05:16.650941Z",
     "shell.execute_reply.started": "2023-08-14T19:05:16.634272Z"
    }
   },
   "outputs": [],
   "source": [
    "pristine_images = []\n",
    "for i in total_original:\n",
    "    pristine_images.append(dataset_path+path_original+i)\n",
    "fake_images = []\n",
    "for i in total_tampered:\n",
    "    fake_images.append(dataset_path+path_tampered+i)"
   ]
  },
  {
   "cell_type": "code",
   "execution_count": null,
   "metadata": {
    "editable": false,
    "execution": {
     "iopub.execute_input": "2023-08-14T19:05:24.833797Z",
     "iopub.status.busy": "2023-08-14T19:05:24.833442Z",
     "iopub.status.idle": "2023-08-14T19:05:24.840078Z",
     "shell.execute_reply": "2023-08-14T19:05:24.83869Z",
     "shell.execute_reply.started": "2023-08-14T19:05:24.833762Z"
    }
   },
   "outputs": [],
   "source": [
    "len(total_tampered),len(fake_images)"
   ]
  },
  {
   "cell_type": "code",
   "execution_count": null,
   "metadata": {
    "editable": false,
    "execution": {
     "iopub.execute_input": "2023-08-14T19:05:27.748767Z",
     "iopub.status.busy": "2023-08-14T19:05:27.748394Z",
     "iopub.status.idle": "2023-08-14T19:05:27.752935Z",
     "shell.execute_reply": "2023-08-14T19:05:27.752028Z",
     "shell.execute_reply.started": "2023-08-14T19:05:27.74873Z"
    }
   },
   "outputs": [],
   "source": [
    "image_size = (224,224)\n",
    "output_path='./'"
   ]
  },
  {
   "cell_type": "code",
   "execution_count": null,
   "metadata": {
    "editable": false,
    "execution": {
     "iopub.execute_input": "2023-08-13T10:11:32.379541Z",
     "iopub.status.busy": "2023-08-13T10:11:32.378071Z",
     "iopub.status.idle": "2023-08-13T10:11:32.386427Z",
     "shell.execute_reply": "2023-08-13T10:11:32.385569Z",
     "shell.execute_reply.started": "2023-08-13T10:11:32.3795Z"
    }
   },
   "outputs": [],
   "source": [
    "# os.rmdir(output_path+\"resized_images/fake_images/\")\n",
    "# os.rmdir(output_path+\"resized_images/pristine_images/\")\n",
    "# os.rmdir(output_path+\"resized_images/\")"
   ]
  },
  {
   "cell_type": "code",
   "execution_count": null,
   "metadata": {
    "editable": false,
    "execution": {
     "iopub.execute_input": "2023-08-14T19:05:30.492948Z",
     "iopub.status.busy": "2023-08-14T19:05:30.492589Z",
     "iopub.status.idle": "2023-08-14T19:10:51.965724Z",
     "shell.execute_reply": "2023-08-14T19:10:51.963755Z",
     "shell.execute_reply.started": "2023-08-14T19:05:30.492914Z"
    }
   },
   "outputs": [],
   "source": [
    "#Resizing the images and saving in output\n",
    "output_path='./'\n",
    "if not os.path.exists(output_path+\"resized_images/\"):\n",
    "#     os.makedirs(output_path+\"resized_images/fake_masks/\")\n",
    "    os.makedirs(output_path+\"resized_images/fake_images/\")\n",
    "    os.makedirs(output_path+\"resized_images/pristine_images/\")\n",
    "    height = 224\n",
    "    width = 224\n",
    "#     p2=output_path+\"resized_images/fake_masks/\"\n",
    "    p1=output_path+\"resized_images/fake_images/\"\n",
    "    p3=output_path+\"resized_images/pristine_images/\"\n",
    "    j=0\n",
    "    for fake_image in tqdm(total_tampered):\n",
    "        try:\n",
    "            img=Image.open(dataset_path+path_tampered + fake_image).convert(\"RGB\")\n",
    "            img = img.resize((height, width), PIL.Image.ANTIALIAS)\n",
    "            img.save(p1+fake_image)\n",
    "            j+=1\n",
    "        except:\n",
    "            print(\"Encountered Invalid File : \",fake_image)\n",
    "        \n",
    "    j=0\n",
    "    for pristine_image in tqdm(total_original):\n",
    "        try:\n",
    "            img=Image.open(dataset_path+path_original + pristine_image).convert(\"RGB\")\n",
    "            img = img.resize((height, width), PIL.Image.ANTIALIAS)\n",
    "            img.save(p3+pristine_image)\n",
    "            j+=1\n",
    "        except:\n",
    "            print(\"Invalid File : \" ,pristine_image)\n",
    "        \n",
    "        \n",
    "        \n",
    "else:\n",
    "    print('images resized,path exists')"
   ]
  },
  {
   "cell_type": "code",
   "execution_count": null,
   "metadata": {
    "editable": false,
    "execution": {
     "iopub.execute_input": "2023-08-14T19:10:54.414817Z",
     "iopub.status.busy": "2023-08-14T19:10:54.414461Z",
     "iopub.status.idle": "2023-08-14T19:10:54.427212Z",
     "shell.execute_reply": "2023-08-14T19:10:54.426491Z",
     "shell.execute_reply.started": "2023-08-14T19:10:54.414781Z"
    }
   },
   "outputs": [],
   "source": [
    "resized_fake_image_path=output_path+\"resized_images/fake_images/\"\n",
    "resized_pristine_image_path=output_path+\"resized_images/pristine_images/\"\n",
    "resized_fake_image=os.listdir(resized_fake_image_path)\n",
    "resized_pristine_image=os.listdir(resized_pristine_image_path)"
   ]
  },
  {
   "cell_type": "code",
   "execution_count": null,
   "metadata": {
    "editable": false,
    "execution": {
     "iopub.execute_input": "2023-08-13T10:15:51.774089Z",
     "iopub.status.busy": "2023-08-13T10:15:51.773691Z",
     "iopub.status.idle": "2023-08-13T10:15:51.785674Z",
     "shell.execute_reply": "2023-08-13T10:15:51.784954Z",
     "shell.execute_reply.started": "2023-08-13T10:15:51.774051Z"
    }
   },
   "outputs": [],
   "source": [
    "len(resized_pristine_image)\n",
    "# os.rmdir(ela_real)\n",
    "# os.rmdir(ela_fake)\n",
    "# os.rmdir('ELA_IMAGES/')"
   ]
  },
  {
   "cell_type": "code",
   "execution_count": null,
   "metadata": {
    "editable": false,
    "execution": {
     "iopub.execute_input": "2023-08-14T19:10:57.010313Z",
     "iopub.status.busy": "2023-08-14T19:10:57.009945Z",
     "iopub.status.idle": "2023-08-14T19:24:13.308914Z",
     "shell.execute_reply": "2023-08-14T19:24:13.307957Z",
     "shell.execute_reply.started": "2023-08-14T19:10:57.010278Z"
    }
   },
   "outputs": [],
   "source": [
    "ela_images_path=output_path+'/kaggle/input/image-forgery-detection/Dataset/'\n",
    "ela_real=ela_images_path+'Original/'\n",
    "ela_fake=ela_images_path+'Forged/'\n",
    "if not os.path.exists(ela_images_path):\n",
    "    os.makedirs(ela_images_path)\n",
    "    os.mkdir(ela_real)\n",
    "    os.mkdir(ela_fake)\n",
    "    j=0\n",
    "    for i in tqdm(resized_fake_image):\n",
    "        ELA(resized_fake_image_path+i).save(ela_fake+i)\n",
    "\n",
    "    j=0\n",
    "    for i in tqdm(resized_pristine_image):\n",
    "        ELA(resized_pristine_image_path+i).save(ela_real+i)\n",
    "\n",
    "else:\n",
    "    print('Images are already converted to ELA')"
   ]
  },
  {
   "cell_type": "code",
   "execution_count": null,
   "metadata": {
    "editable": false,
    "execution": {
     "iopub.execute_input": "2023-08-14T19:24:45.724504Z",
     "iopub.status.busy": "2023-08-14T19:24:45.724132Z",
     "iopub.status.idle": "2023-08-14T19:24:48.234299Z",
     "shell.execute_reply": "2023-08-14T19:24:48.2333Z",
     "shell.execute_reply.started": "2023-08-14T19:24:45.724467Z"
    }
   },
   "outputs": [],
   "source": [
    "import matplotlib.pyplot as plt\n",
    "\n",
    "# Function to display ELA images\n",
    "def display_ela_images(ela_images, titles):\n",
    "    fig, axes = plt.subplots(1, len(ela_images), figsize=(30, 30))\n",
    "    for i, ax in enumerate(axes):\n",
    "        ax.imshow(ela_images[i], cmap='gray')\n",
    "        ax.axis('off')\n",
    "        ax.set_title(titles[i])\n",
    "\n",
    "# Display 10 ela images converted from the original images\n",
    "print(\"Displaying 10 ELA images converted from original images:\")\n",
    "ela_original_images = [ELA(resized_pristine_image_path + i) for i in resized_pristine_image[0:10]]\n",
    "titles_original = [f\"Original {i+1}\" for i in range(10)]\n",
    "display_ela_images(ela_original_images, titles_original)\n",
    "plt.show()\n",
    "\n",
    "# Display 10 ELA images converted from the tampered images\n",
    "print(\"Displaying 10 ELA images converted from tampered images:\")\n",
    "ela_tampered_images = [ELA(resized_fake_image_path + i) for i in resized_fake_image[0:10]]\n",
    "titles_tampered = [f\"Tampered {i+1}\" for i in range(10)]\n",
    "display_ela_images(ela_tampered_images, titles_tampered)\n",
    "plt.show()"
   ]
  },
  {
   "cell_type": "code",
   "execution_count": null,
   "metadata": {
    "editable": false,
    "execution": {
     "iopub.execute_input": "2023-08-14T19:24:54.760865Z",
     "iopub.status.busy": "2023-08-14T19:24:54.760479Z",
     "iopub.status.idle": "2023-08-14T19:25:07.835743Z",
     "shell.execute_reply": "2023-08-14T19:25:07.834825Z",
     "shell.execute_reply.started": "2023-08-14T19:24:54.76083Z"
    }
   },
   "outputs": [],
   "source": [
    "X=[]\n",
    "Y=[]\n",
    "j=0\n",
    "for file in tqdm(os.listdir(ela_real)):\n",
    "    img=Image.open(ela_real+file)\n",
    "    img=np.array(img)\n",
    "    X.append(img)\n",
    "    Y.append(0)\n",
    "    j+=1\n",
    "\n",
    "j=0\n",
    "for file in tqdm(os.listdir(ela_fake)):\n",
    "    img=Image.open(ela_fake+file)\n",
    "    img=np.array(img)\n",
    "    X.append(img)\n",
    "    Y.append(1)\n",
    "    j+=1\n"
   ]
  },
  {
   "cell_type": "code",
   "execution_count": null,
   "metadata": {
    "editable": false,
    "execution": {
     "iopub.execute_input": "2023-08-14T19:25:09.441814Z",
     "iopub.status.busy": "2023-08-14T19:25:09.441443Z",
     "iopub.status.idle": "2023-08-14T19:25:10.028365Z",
     "shell.execute_reply": "2023-08-14T19:25:10.027406Z",
     "shell.execute_reply.started": "2023-08-14T19:25:09.441776Z"
    }
   },
   "outputs": [],
   "source": [
    "X=np.array(X)\n",
    "X.shape"
   ]
  },
  {
   "cell_type": "code",
   "execution_count": null,
   "metadata": {
    "editable": false,
    "execution": {
     "iopub.execute_input": "2023-08-14T19:25:17.126737Z",
     "iopub.status.busy": "2023-08-14T19:25:17.126372Z",
     "iopub.status.idle": "2023-08-14T19:25:19.071888Z",
     "shell.execute_reply": "2023-08-14T19:25:19.07095Z",
     "shell.execute_reply.started": "2023-08-14T19:25:17.126702Z"
    }
   },
   "outputs": [],
   "source": [
    "from sklearn.model_selection import train_test_split\n",
    "from keras.utils.np_utils import to_categorical\n",
    "x_train, x_dev, y_train, y_dev = train_test_split(X, Y, test_size=0.2, random_state=1,shuffle=True)\n",
    "y_train=to_categorical(y_train,2)\n",
    "y_dev=to_categorical(y_dev,2)"
   ]
  },
  {
   "cell_type": "code",
   "execution_count": null,
   "metadata": {
    "editable": false,
    "execution": {
     "iopub.execute_input": "2023-08-14T19:25:20.067442Z",
     "iopub.status.busy": "2023-08-14T19:25:20.06677Z",
     "iopub.status.idle": "2023-08-14T19:25:24.995427Z",
     "shell.execute_reply": "2023-08-14T19:25:24.994439Z",
     "shell.execute_reply.started": "2023-08-14T19:25:20.067389Z"
    }
   },
   "outputs": [],
   "source": [
    "from tensorflow.keras.applications import DenseNet121, Xception, VGG16\n",
    "from tensorflow.keras.models import Model\n",
    "from tensorflow.keras.layers import GlobalAveragePooling2D,BatchNormalization,Dropout,MaxPooling2D\n",
    "from tensorflow.keras.regularizers import l1,l2,l1_l2\n",
    "\n",
    "# Create the model based on DenseNet121\n",
    "base_model = DenseNet121(input_shape=(224, 224, 3), include_top=False, weights='imagenet')\n",
    "\n",
    "# Unfreeze the layers in the base model\n",
    "for layer in base_model.layers:\n",
    "    layer.trainable = True\n",
    "x=base_model.output\n",
    "x=Conv2D(1024,(3,3),padding='same',activation='relu')(x)\n",
    "x=GlobalAveragePooling2D()(x)\n",
    "x=Flatten()(x)\n",
    "x=Dense(1024,activation='relu',kernel_regularizer=l2(0.01), bias_regularizer=l2(0.01))(x)\n",
    "x=Dropout(0.8)(x)\n",
    "x=Dense(16,activation='relu',kernel_regularizer=l2(0.01), bias_regularizer=l2(0.01))(x)\n",
    "x=Dense(2,activation='softmax')(x)\n",
    "model=Model(base_model.input,x)\n",
    "model.compile(optimizer='adam',loss='categorical_crossentropy',metrics=['accuracy'])\n"
   ]
  },
  {
   "cell_type": "code",
   "execution_count": null,
   "metadata": {
    "editable": false
   },
   "outputs": [],
   "source": [
    "\n"
   ]
  },
  {
   "cell_type": "code",
   "execution_count": null,
   "metadata": {
    "editable": false,
    "execution": {
     "iopub.execute_input": "2023-08-14T19:26:25.903415Z",
     "iopub.status.busy": "2023-08-14T19:26:25.902994Z",
     "iopub.status.idle": "2023-08-14T19:26:25.908059Z",
     "shell.execute_reply": "2023-08-14T19:26:25.906975Z",
     "shell.execute_reply.started": "2023-08-14T19:26:25.903371Z"
    }
   },
   "outputs": [],
   "source": [
    "epochs = 100\n",
    "batch_size = 64"
   ]
  },
  {
   "cell_type": "code",
   "execution_count": null,
   "metadata": {
    "editable": false,
    "execution": {
     "iopub.execute_input": "2023-08-13T10:23:15.716881Z",
     "iopub.status.busy": "2023-08-13T10:23:15.716186Z",
     "iopub.status.idle": "2023-08-13T10:23:15.729527Z",
     "shell.execute_reply": "2023-08-13T10:23:15.728749Z",
     "shell.execute_reply.started": "2023-08-13T10:23:15.716844Z"
    }
   },
   "outputs": [],
   "source": [
    "import keras\n",
    "early_stop = keras.callbacks.EarlyStopping(monitor='val_loss', patience=10,verbose=1,restore_best_weights=True)\n",
    "reduce_lr = keras.callbacks.ReduceLROnPlateau(monitor = 'val_loss', factor = 0.1, patience = 10, verbose = 1)"
   ]
  },
  {
   "cell_type": "code",
   "execution_count": null,
   "metadata": {
    "editable": false,
    "execution": {
     "iopub.execute_input": "2023-08-14T19:26:29.070241Z",
     "iopub.status.busy": "2023-08-14T19:26:29.069876Z",
     "iopub.status.idle": "2023-08-14T21:08:26.940247Z",
     "shell.execute_reply": "2023-08-14T21:08:26.93929Z",
     "shell.execute_reply.started": "2023-08-14T19:26:29.070205Z"
    }
   },
   "outputs": [],
   "source": [
    "hist = model.fit(x_train,y_train,\n",
    "                 epochs = epochs, batch_size = batch_size,\n",
    "                validation_data = (x_dev,y_dev),\n",
    "                #callbacks = [early_stop,reduce_lr],\n",
    "                verbose=1,shuffle=True)"
   ]
  },
  {
   "cell_type": "code",
   "execution_count": null,
   "metadata": {
    "editable": false,
    "execution": {
     "iopub.execute_input": "2023-08-14T21:08:50.512002Z",
     "iopub.status.busy": "2023-08-14T21:08:50.511627Z",
     "iopub.status.idle": "2023-08-14T21:08:50.780768Z",
     "shell.execute_reply": "2023-08-14T21:08:50.779819Z",
     "shell.execute_reply.started": "2023-08-14T21:08:50.511966Z"
    }
   },
   "outputs": [],
   "source": [
    "# Plot the loss and accuracy curves for training and validation \n",
    "fig, ax = plt.subplots(2,1)\n",
    "ax[0].plot(hist.history['loss'], color='b', label=\"Training loss\")\n",
    "ax[0].plot(hist.history['val_loss'], color='r', label=\"validation loss\",axes =ax[0])\n",
    "legend = ax[0].legend(loc='best', shadow=True)\n",
    "\n",
    "ax[1].plot(hist.history['accuracy'], color='b', label=\"Training accuracy\")\n",
    "ax[1].plot(hist.history['val_accuracy'], color='r',label=\"Validation accuracy\")\n",
    "legend = ax[1].legend(loc='best', shadow=True)"
   ]
  },
  {
   "cell_type": "code",
   "execution_count": null,
   "metadata": {
    "editable": false,
    "execution": {
     "iopub.status.busy": "2023-08-13T10:28:10.668405Z",
     "iopub.status.idle": "2023-08-13T10:28:10.669202Z"
    }
   },
   "outputs": [],
   "source": [
    "# pred[0:20]"
   ]
  },
  {
   "cell_type": "code",
   "execution_count": null,
   "metadata": {
    "editable": false,
    "execution": {
     "iopub.execute_input": "2023-08-14T21:08:58.150906Z",
     "iopub.status.busy": "2023-08-14T21:08:58.15052Z",
     "iopub.status.idle": "2023-08-14T21:09:04.934695Z",
     "shell.execute_reply": "2023-08-14T21:09:04.933749Z",
     "shell.execute_reply.started": "2023-08-14T21:08:58.15087Z"
    }
   },
   "outputs": [],
   "source": [
    "import numpy as np\n",
    "import matplotlib.pyplot as plt\n",
    "from sklearn.metrics import confusion_matrix, precision_score, recall_score, f1_score, accuracy_score, roc_curve, roc_auc_score, auc\n",
    "import seaborn as sns\n",
    "\n",
    "# Assuming you have the model already trained and 'x_dev' contains the validation data\n",
    "\n",
    "# Get predictions from the model\n",
    "y_pred = model.predict(x_dev)\n",
    "y_pred_classes = np.argmax(y_pred, axis=1)  # Convert probabilities to class labels\n",
    "\n",
    "# Convert one-hot encoded labels back to categorical labels\n",
    "y_dev_classes = np.argmax(y_dev, axis=1)\n",
    "\n",
    "# Generate confusion matrix\n",
    "conf_matrix = confusion_matrix(y_dev_classes, y_pred_classes)\n",
    "print(conf_matrix)\n",
    "# Define class labels (0: real, 1: fake)\n",
    "class_labels = [\"Real\", \"Fake\"]\n",
    "\n",
    "# Calculate metrics\n",
    "precision = precision_score(y_dev_classes, y_pred_classes)\n",
    "recall = recall_score(y_dev_classes, y_pred_classes)\n",
    "f1 = f1_score(y_dev_classes, y_pred_classes)\n",
    "accuracy = accuracy_score(y_dev_classes, y_pred_classes)\n",
    "\n",
    "print(\"Precision:\", precision)\n",
    "print(\"Recall:\", recall)\n",
    "print(\"F1 Score:\", f1)\n",
    "print(\"Accuracy:\", accuracy)\n",
    "\n",
    "# Calculate ROC curve and ROC-AUC\n",
    "fpr, tpr, _ = roc_curve(y_dev_classes, y_pred[:, 1])  # Assuming 1 corresponds to \"fake\" class\n",
    "roc_auc = auc(fpr, tpr)\n",
    "\n",
    "print(\"ROC-AUC Score:\", roc_auc)\n",
    "\n",
    "# Plot the ROC curve\n",
    "plt.figure(figsize=(8, 6))\n",
    "plt.plot(fpr, tpr, color='darkorange', lw=2, label='ROC curve (AUC = {:.2f})'.format(roc_auc))\n",
    "plt.plot([0, 1], [0, 1], color='navy', lw=2, linestyle='--')\n",
    "plt.xlim([0.0, 1.0])\n",
    "plt.ylim([0.0, 1.05])\n",
    "plt.xlabel('False Positive Rate')\n",
    "plt.ylabel('True Positive Rate')\n",
    "plt.title('Receiver Operating Characteristic (ROC) Curve')\n",
    "plt.legend(loc=\"lower right\")\n",
    "plt.show()\n",
    "\n",
    "# Plot the confusion matrix\n",
    "plt.figure(figsize=(8, 6))\n",
    "sns.heatmap(conf_matrix, annot=True, fmt=\"d\", cmap=\"Blues\",\n",
    "            xticklabels=class_labels, yticklabels=class_labels)\n",
    "plt.xlabel(\"Predicted\")\n",
    "plt.ylabel(\"True\")\n",
    "plt.title(\"Confusion Matrix\")\n",
    "plt.show()\n"
   ]
  },
  {
   "cell_type": "markdown",
   "metadata": {
    "editable": false
   },
   "source": [
    "Prediction"
   ]
  },
  {
   "cell_type": "code",
   "execution_count": 2,
   "metadata": {
    "editable": false
   },
   "outputs": [
    {
     "ename": "NameError",
     "evalue": "name 'os' is not defined",
     "output_type": "error",
     "traceback": [
      "\u001b[1;31m---------------------------------------------------------------------------\u001b[0m",
      "\u001b[1;31mNameError\u001b[0m                                 Traceback (most recent call last)",
      "Cell \u001b[1;32mIn[2], line 19\u001b[0m\n\u001b[0;32m     14\u001b[0m \u001b[38;5;66;03m# Path to the folder containing random images\u001b[39;00m\n\u001b[0;32m     15\u001b[0m image_folder \u001b[38;5;241m=\u001b[39m \u001b[38;5;124m'\u001b[39m\u001b[38;5;124m/kaggle/input/input-random-image/Images/\u001b[39m\u001b[38;5;124m'\u001b[39m\n\u001b[1;32m---> 19\u001b[0m image_files \u001b[38;5;241m=\u001b[39m [f \u001b[38;5;28;01mfor\u001b[39;00m f \u001b[38;5;129;01min\u001b[39;00m \u001b[43mos\u001b[49m\u001b[38;5;241m.\u001b[39mlistdir(image_folder) \u001b[38;5;28;01mif\u001b[39;00m f\u001b[38;5;241m.\u001b[39mendswith((\u001b[38;5;124m'\u001b[39m\u001b[38;5;124m.png\u001b[39m\u001b[38;5;124m'\u001b[39m, \u001b[38;5;124m'\u001b[39m\u001b[38;5;124m.jpg\u001b[39m\u001b[38;5;124m'\u001b[39m, \u001b[38;5;124m'\u001b[39m\u001b[38;5;124m.jpeg\u001b[39m\u001b[38;5;124m'\u001b[39m))]\n\u001b[0;32m     21\u001b[0m num_images \u001b[38;5;241m=\u001b[39m \u001b[38;5;28mlen\u001b[39m(image_files)\n\u001b[0;32m     22\u001b[0m num_cols \u001b[38;5;241m=\u001b[39m \u001b[38;5;241m3\u001b[39m  \u001b[38;5;66;03m# Number of columns in the grid\u001b[39;00m\n",
      "\u001b[1;31mNameError\u001b[0m: name 'os' is not defined"
     ]
    }
   ],
   "source": [
    "import numpy as np\n",
    "import matplotlib.pyplot as plt\n",
    "from PIL import Image\n",
    "from tensorflow.keras.models import load_model\n",
    "\n",
    "\n",
    "# Function to preprocess an image\n",
    "def preprocess_image(image_path):\n",
    "    img = ELA(image_path)\n",
    "    img = img.resize((224, 224))  # Resize the image to match the input size of your model\n",
    "    img = np.array(img) # Normalize pixel values to [0, 1]\n",
    "    return img\n",
    "\n",
    "# Path to the folder containing random images\n",
    "image_folder = '/kaggle/input/input-random-image/Images/'\n",
    "\n",
    "\n",
    "\n",
    "image_files = [f for f in os.listdir(image_folder) if f.endswith(('.png', '.jpg', '.jpeg'))]\n",
    "\n",
    "num_images = len(image_files)\n",
    "num_cols = 3  # Number of columns in the grid\n",
    "num_rows = -(-num_images // num_cols)\n",
    "plt.figure(figsize=(15, 20))\n",
    "\n",
    "for i, image_file in enumerate(image_files):\n",
    "    # Preprocess the image\n",
    "    image_path = os.path.join(image_folder, image_file)\n",
    "    preprocessed_img = preprocess_image(image_path)\n",
    "\n",
    "    # Get predictions from the model\n",
    "    pred_probs = model.predict(np.expand_dims(preprocessed_img, axis=0))[0]\n",
    "    predicted_class = np.argmax(pred_probs)\n",
    "    predicted_label = class_labels[predicted_class]\n",
    "    confidence = pred_probs[predicted_class]\n",
    "\n",
    "    # Set up the subplot\n",
    "    plt.subplot(num_rows, num_cols, i + 1)\n",
    "    plt.imshow(Image.open(image_path))\n",
    "    plt.title(f\"Prediction: {predicted_label}\\nConfidence: {confidence:.2f}\")\n",
    "    plt.axis('off')\n",
    "\n",
    "plt.tight_layout()\n",
    "plt.show()\n"
   ]
  },
  {
   "cell_type": "code",
   "execution_count": null,
   "metadata": {
    "editable": false
   },
   "outputs": [],
   "source": []
  },
  {
   "cell_type": "code",
   "execution_count": null,
   "metadata": {
    "editable": false,
    "execution": {
     "iopub.status.busy": "2023-08-13T10:28:10.674335Z",
     "iopub.status.idle": "2023-08-13T10:28:10.675133Z"
    }
   },
   "outputs": [],
   "source": [
    "total,correct=0,0"
   ]
  },
  {
   "cell_type": "code",
   "execution_count": null,
   "metadata": {
    "editable": false,
    "execution": {
     "iopub.status.busy": "2023-08-13T10:28:10.676297Z",
     "iopub.status.idle": "2023-08-13T10:28:10.677102Z"
    }
   },
   "outputs": [],
   "source": [
    "# print(f'Total: {total}, Correct: {correct}, Acc: {correct / total * 100.0}')"
   ]
  },
  {
   "cell_type": "code",
   "execution_count": null,
   "metadata": {
    "editable": false,
    "execution": {
     "iopub.status.busy": "2023-08-13T10:28:10.678295Z",
     "iopub.status.idle": "2023-08-13T10:28:10.679109Z"
    }
   },
   "outputs": [],
   "source": [
    "# correct += correct_r\n",
    "# total += total_r\n",
    "# print(f'Total: {total_r}, Correct: {correct_r}, Acc: {correct_r / total_r * 100.0}')\n",
    "# print(f'Total: {total}, Correct: {correct}, Acc: {correct / total * 100.0}')"
   ]
  },
  {
   "cell_type": "code",
   "execution_count": null,
   "metadata": {
    "editable": false,
    "execution": {
     "iopub.status.busy": "2023-08-13T10:28:10.680285Z",
     "iopub.status.idle": "2023-08-13T10:28:10.681069Z"
    }
   },
   "outputs": [],
   "source": [
    "# model.save('/kaggle/working/model_casia_run2.h5')\n",
    "# model.save_weights('/kaggle/working/model_casia_run1.h5')"
   ]
  },
  {
   "cell_type": "code",
   "execution_count": null,
   "metadata": {
    "editable": false
   },
   "outputs": [],
   "source": []
  }
 ],
 "metadata": {
  "kaggle": {
   "accelerator": "gpu",
   "dataSources": [
    {
     "datasetId": 3626137,
     "sourceId": 6303208,
     "sourceType": "datasetVersion"
    },
    {
     "datasetId": 3626406,
     "sourceId": 6303605,
     "sourceType": "datasetVersion"
    }
   ],
   "dockerImageVersionId": 30066,
   "isGpuEnabled": true,
   "isInternetEnabled": false,
   "language": "python",
   "sourceType": "notebook"
  },
  "kernelspec": {
   "display_name": "Python 3 (ipykernel)",
   "language": "python",
   "name": "python3"
  },
  "language_info": {
   "codemirror_mode": {
    "name": "ipython",
    "version": 3
   },
   "file_extension": ".py",
   "mimetype": "text/x-python",
   "name": "python",
   "nbconvert_exporter": "python",
   "pygments_lexer": "ipython3",
   "version": "3.11.5"
  }
 },
 "nbformat": 4,
 "nbformat_minor": 4
}
